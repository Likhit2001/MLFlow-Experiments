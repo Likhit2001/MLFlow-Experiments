{
 "cells": [
  {
   "cell_type": "code",
   "execution_count": 1,
   "metadata": {},
   "outputs": [],
   "source": [
    "import pandas as pd\n",
    "import numpy as np \n",
    "from sklearn.model_selection import train_test_split"
   ]
  },
  {
   "cell_type": "code",
   "execution_count": 2,
   "metadata": {},
   "outputs": [
    {
     "data": {
      "text/html": [
       "<div>\n",
       "<style scoped>\n",
       "    .dataframe tbody tr th:only-of-type {\n",
       "        vertical-align: middle;\n",
       "    }\n",
       "\n",
       "    .dataframe tbody tr th {\n",
       "        vertical-align: top;\n",
       "    }\n",
       "\n",
       "    .dataframe thead th {\n",
       "        text-align: right;\n",
       "    }\n",
       "</style>\n",
       "<table border=\"1\" class=\"dataframe\">\n",
       "  <thead>\n",
       "    <tr style=\"text-align: right;\">\n",
       "      <th></th>\n",
       "      <th>having_IP_Address</th>\n",
       "      <th>URL_Length</th>\n",
       "      <th>Shortining_Service</th>\n",
       "      <th>having_At_Symbol</th>\n",
       "      <th>double_slash_redirecting</th>\n",
       "      <th>Prefix_Suffix</th>\n",
       "      <th>having_Sub_Domain</th>\n",
       "      <th>SSLfinal_State</th>\n",
       "      <th>Domain_registeration_length</th>\n",
       "      <th>Favicon</th>\n",
       "      <th>...</th>\n",
       "      <th>popUpWidnow</th>\n",
       "      <th>Iframe</th>\n",
       "      <th>age_of_domain</th>\n",
       "      <th>DNSRecord</th>\n",
       "      <th>web_traffic</th>\n",
       "      <th>Page_Rank</th>\n",
       "      <th>Google_Index</th>\n",
       "      <th>Links_pointing_to_page</th>\n",
       "      <th>Statistical_report</th>\n",
       "      <th>Result</th>\n",
       "    </tr>\n",
       "  </thead>\n",
       "  <tbody>\n",
       "    <tr>\n",
       "      <th>0</th>\n",
       "      <td>-1.0</td>\n",
       "      <td>1.0</td>\n",
       "      <td>1.0</td>\n",
       "      <td>1.0</td>\n",
       "      <td>-1.0</td>\n",
       "      <td>-1.0</td>\n",
       "      <td>-1.0</td>\n",
       "      <td>-1.0</td>\n",
       "      <td>-1.0</td>\n",
       "      <td>1.0</td>\n",
       "      <td>...</td>\n",
       "      <td>1.0</td>\n",
       "      <td>1.0</td>\n",
       "      <td>-1.0</td>\n",
       "      <td>-1.0</td>\n",
       "      <td>-1.0</td>\n",
       "      <td>-1.0</td>\n",
       "      <td>1.0</td>\n",
       "      <td>1.0</td>\n",
       "      <td>-1.0</td>\n",
       "      <td>-1.0</td>\n",
       "    </tr>\n",
       "    <tr>\n",
       "      <th>1</th>\n",
       "      <td>1.0</td>\n",
       "      <td>1.0</td>\n",
       "      <td>1.0</td>\n",
       "      <td>1.0</td>\n",
       "      <td>1.0</td>\n",
       "      <td>-1.0</td>\n",
       "      <td>0.0</td>\n",
       "      <td>1.0</td>\n",
       "      <td>-1.0</td>\n",
       "      <td>1.0</td>\n",
       "      <td>...</td>\n",
       "      <td>1.0</td>\n",
       "      <td>1.0</td>\n",
       "      <td>-1.0</td>\n",
       "      <td>-1.0</td>\n",
       "      <td>0.0</td>\n",
       "      <td>-1.0</td>\n",
       "      <td>1.0</td>\n",
       "      <td>1.0</td>\n",
       "      <td>1.0</td>\n",
       "      <td>-1.0</td>\n",
       "    </tr>\n",
       "    <tr>\n",
       "      <th>2</th>\n",
       "      <td>1.0</td>\n",
       "      <td>0.0</td>\n",
       "      <td>1.0</td>\n",
       "      <td>1.0</td>\n",
       "      <td>1.0</td>\n",
       "      <td>-1.0</td>\n",
       "      <td>-1.0</td>\n",
       "      <td>-1.0</td>\n",
       "      <td>-1.0</td>\n",
       "      <td>1.0</td>\n",
       "      <td>...</td>\n",
       "      <td>1.0</td>\n",
       "      <td>1.0</td>\n",
       "      <td>1.0</td>\n",
       "      <td>-1.0</td>\n",
       "      <td>1.0</td>\n",
       "      <td>-1.0</td>\n",
       "      <td>1.0</td>\n",
       "      <td>0.0</td>\n",
       "      <td>-1.0</td>\n",
       "      <td>-1.0</td>\n",
       "    </tr>\n",
       "    <tr>\n",
       "      <th>3</th>\n",
       "      <td>1.0</td>\n",
       "      <td>0.0</td>\n",
       "      <td>1.0</td>\n",
       "      <td>1.0</td>\n",
       "      <td>1.0</td>\n",
       "      <td>-1.0</td>\n",
       "      <td>-1.0</td>\n",
       "      <td>-1.0</td>\n",
       "      <td>1.0</td>\n",
       "      <td>1.0</td>\n",
       "      <td>...</td>\n",
       "      <td>1.0</td>\n",
       "      <td>1.0</td>\n",
       "      <td>-1.0</td>\n",
       "      <td>-1.0</td>\n",
       "      <td>1.0</td>\n",
       "      <td>-1.0</td>\n",
       "      <td>1.0</td>\n",
       "      <td>-1.0</td>\n",
       "      <td>1.0</td>\n",
       "      <td>-1.0</td>\n",
       "    </tr>\n",
       "    <tr>\n",
       "      <th>4</th>\n",
       "      <td>1.0</td>\n",
       "      <td>0.0</td>\n",
       "      <td>-1.0</td>\n",
       "      <td>1.0</td>\n",
       "      <td>1.0</td>\n",
       "      <td>-1.0</td>\n",
       "      <td>1.0</td>\n",
       "      <td>1.0</td>\n",
       "      <td>-1.0</td>\n",
       "      <td>1.0</td>\n",
       "      <td>...</td>\n",
       "      <td>-1.0</td>\n",
       "      <td>1.0</td>\n",
       "      <td>-1.0</td>\n",
       "      <td>-1.0</td>\n",
       "      <td>0.0</td>\n",
       "      <td>-1.0</td>\n",
       "      <td>1.0</td>\n",
       "      <td>1.0</td>\n",
       "      <td>1.0</td>\n",
       "      <td>1.0</td>\n",
       "    </tr>\n",
       "  </tbody>\n",
       "</table>\n",
       "<p>5 rows × 31 columns</p>\n",
       "</div>"
      ],
      "text/plain": [
       "   having_IP_Address  URL_Length  Shortining_Service  having_At_Symbol  \\\n",
       "0               -1.0         1.0                 1.0               1.0   \n",
       "1                1.0         1.0                 1.0               1.0   \n",
       "2                1.0         0.0                 1.0               1.0   \n",
       "3                1.0         0.0                 1.0               1.0   \n",
       "4                1.0         0.0                -1.0               1.0   \n",
       "\n",
       "   double_slash_redirecting  Prefix_Suffix  having_Sub_Domain  SSLfinal_State  \\\n",
       "0                      -1.0           -1.0               -1.0            -1.0   \n",
       "1                       1.0           -1.0                0.0             1.0   \n",
       "2                       1.0           -1.0               -1.0            -1.0   \n",
       "3                       1.0           -1.0               -1.0            -1.0   \n",
       "4                       1.0           -1.0                1.0             1.0   \n",
       "\n",
       "   Domain_registeration_length  Favicon  ...  popUpWidnow  Iframe  \\\n",
       "0                         -1.0      1.0  ...          1.0     1.0   \n",
       "1                         -1.0      1.0  ...          1.0     1.0   \n",
       "2                         -1.0      1.0  ...          1.0     1.0   \n",
       "3                          1.0      1.0  ...          1.0     1.0   \n",
       "4                         -1.0      1.0  ...         -1.0     1.0   \n",
       "\n",
       "   age_of_domain  DNSRecord  web_traffic  Page_Rank  Google_Index  \\\n",
       "0           -1.0       -1.0         -1.0       -1.0           1.0   \n",
       "1           -1.0       -1.0          0.0       -1.0           1.0   \n",
       "2            1.0       -1.0          1.0       -1.0           1.0   \n",
       "3           -1.0       -1.0          1.0       -1.0           1.0   \n",
       "4           -1.0       -1.0          0.0       -1.0           1.0   \n",
       "\n",
       "   Links_pointing_to_page  Statistical_report  Result  \n",
       "0                     1.0                -1.0    -1.0  \n",
       "1                     1.0                 1.0    -1.0  \n",
       "2                     0.0                -1.0    -1.0  \n",
       "3                    -1.0                 1.0    -1.0  \n",
       "4                     1.0                 1.0     1.0  \n",
       "\n",
       "[5 rows x 31 columns]"
      ]
     },
     "execution_count": 2,
     "metadata": {},
     "output_type": "execute_result"
    }
   ],
   "source": [
    "data = pd.read_csv(\"Data/phisingData.csv\")\n",
    "data = data.astype(float)\n",
    "data.head()"
   ]
  },
  {
   "cell_type": "code",
   "execution_count": 3,
   "metadata": {},
   "outputs": [
    {
     "name": "stdout",
     "output_type": "stream",
     "text": [
      "having_IP_Address              0\n",
      "URL_Length                     0\n",
      "Shortining_Service             0\n",
      "having_At_Symbol               0\n",
      "double_slash_redirecting       0\n",
      "Prefix_Suffix                  0\n",
      "having_Sub_Domain              0\n",
      "SSLfinal_State                 0\n",
      "Domain_registeration_length    0\n",
      "Favicon                        0\n",
      "port                           0\n",
      "HTTPS_token                    0\n",
      "Request_URL                    0\n",
      "URL_of_Anchor                  0\n",
      "Links_in_tags                  0\n",
      "SFH                            0\n",
      "Submitting_to_email            0\n",
      "Abnormal_URL                   0\n",
      "Redirect                       0\n",
      "on_mouseover                   0\n",
      "RightClick                     0\n",
      "popUpWidnow                    0\n",
      "Iframe                         0\n",
      "age_of_domain                  0\n",
      "DNSRecord                      0\n",
      "web_traffic                    0\n",
      "Page_Rank                      0\n",
      "Google_Index                   0\n",
      "Links_pointing_to_page         0\n",
      "Statistical_report             0\n",
      "Result                         0\n",
      "dtype: int64\n"
     ]
    }
   ],
   "source": [
    "print(data.isnull().sum())"
   ]
  },
  {
   "cell_type": "code",
   "execution_count": 4,
   "metadata": {},
   "outputs": [],
   "source": [
    "data.describe()\n",
    "\n",
    "X = data.drop(columns=[\"Result\"])\n",
    "y = data[\"Result\"]"
   ]
  },
  {
   "cell_type": "code",
   "execution_count": 5,
   "metadata": {},
   "outputs": [
    {
     "name": "stdout",
     "output_type": "stream",
     "text": [
      "float64\n"
     ]
    }
   ],
   "source": [
    "print(y.dtypes)"
   ]
  },
  {
   "cell_type": "code",
   "execution_count": 6,
   "metadata": {},
   "outputs": [],
   "source": [
    "X_train, X_test, y_train, y_test = train_test_split(X, y, test_size=0.25, random_state=420)"
   ]
  },
  {
   "cell_type": "code",
   "execution_count": 7,
   "metadata": {},
   "outputs": [],
   "source": [
    "# randomforest , decsiontree , Logistic regression"
   ]
  },
  {
   "cell_type": "code",
   "execution_count": 8,
   "metadata": {},
   "outputs": [],
   "source": [
    "import mlflow\n",
    "import mlflow.sklearn\n",
    "from sklearn.ensemble import RandomForestClassifier\n",
    "from sklearn.tree import DecisionTreeClassifier\n",
    "from sklearn.linear_model import LogisticRegression\n",
    "from sklearn.model_selection import train_test_split, ParameterGrid\n",
    "from sklearn.metrics import accuracy_score, precision_score, recall_score, confusion_matrix\n",
    "from mlflow.models import infer_signature\n",
    "\n"
   ]
  },
  {
   "cell_type": "code",
   "execution_count": 9,
   "metadata": {},
   "outputs": [
    {
     "name": "stderr",
     "output_type": "stream",
     "text": [
      "2025/05/26 19:05:45 INFO mlflow.tracking.fluent: Experiment with name 'Spam-Website-Data-part2' does not exist. Creating a new experiment.\n"
     ]
    },
    {
     "data": {
      "text/plain": [
       "<Experiment: artifact_location='mlflow-artifacts:/803720941544646985', creation_time=1748307945512, experiment_id='803720941544646985', last_update_time=1748307945512, lifecycle_stage='active', name='Spam-Website-Data-part2', tags={}>"
      ]
     },
     "execution_count": 9,
     "metadata": {},
     "output_type": "execute_result"
    }
   ],
   "source": [
    "mlflow.set_tracking_uri(\"http://127.0.0.1:5000\")\n",
    "mlflow.set_experiment(\"Spam-Website-Data-part2\")"
   ]
  },
  {
   "cell_type": "code",
   "execution_count": 10,
   "metadata": {},
   "outputs": [
    {
     "name": "stdout",
     "output_type": "stream",
     "text": [
      "RandomForest the Accuracy 0.9294500723589001 , Precision 0.9294766081901537, Recall 0.9294500723589001\n",
      "🏃 View run RandomForest_experiment at: http://127.0.0.1:5000/#/experiments/803720941544646985/runs/6bf468b560c74d1bbcaf85b0a06ec6c3\n",
      "🧪 View experiment at: http://127.0.0.1:5000/#/experiments/803720941544646985\n",
      "RandomForest the Accuracy 0.9352387843704776 , Precision 0.9356285184253387, Recall 0.9352387843704776\n",
      "🏃 View run RandomForest_experiment at: http://127.0.0.1:5000/#/experiments/803720941544646985/runs/baa8983f02d244d3bd7bb8f8976689db\n",
      "🧪 View experiment at: http://127.0.0.1:5000/#/experiments/803720941544646985\n",
      "RandomForest the Accuracy 0.9609261939218524 , Precision 0.9610932050510045, Recall 0.9609261939218524\n",
      "🏃 View run RandomForest_experiment at: http://127.0.0.1:5000/#/experiments/803720941544646985/runs/e2d9e00ce43445a5b6399bb1194cf611\n",
      "🧪 View experiment at: http://127.0.0.1:5000/#/experiments/803720941544646985\n",
      "RandomForest the Accuracy 0.9605643994211288 , Precision 0.9607170609726354, Recall 0.9605643994211288\n",
      "🏃 View run RandomForest_experiment at: http://127.0.0.1:5000/#/experiments/803720941544646985/runs/06a6dc0dd08542f0985b34b1c9ee2e95\n",
      "🧪 View experiment at: http://127.0.0.1:5000/#/experiments/803720941544646985\n",
      "DecisionTree the Accuracy 0.9272793053545586 , Precision 0.9299030996792425, Recall 0.9272793053545586\n",
      "🏃 View run DecisionTree_experiment at: http://127.0.0.1:5000/#/experiments/803720941544646985/runs/c71a20d3f46e4043925bf11db0d5bd49\n",
      "🧪 View experiment at: http://127.0.0.1:5000/#/experiments/803720941544646985\n",
      "DecisionTree the Accuracy 0.9493487698986975 , Precision 0.9494171920136866, Recall 0.9493487698986975\n",
      "🏃 View run DecisionTree_experiment at: http://127.0.0.1:5000/#/experiments/803720941544646985/runs/6eba9970523243b181a4f0c87bbba6dc\n",
      "🧪 View experiment at: http://127.0.0.1:5000/#/experiments/803720941544646985\n",
      "DecisionTree the Accuracy 0.9272793053545586 , Precision 0.9299030996792425, Recall 0.9272793053545586\n",
      "🏃 View run DecisionTree_experiment at: http://127.0.0.1:5000/#/experiments/803720941544646985/runs/369feca5dbc447cf8a8d6c769a2b6a02\n",
      "🧪 View experiment at: http://127.0.0.1:5000/#/experiments/803720941544646985\n",
      "DecisionTree the Accuracy 0.9479015918958031 , Precision 0.9479908067958442, Recall 0.9479015918958031\n",
      "🏃 View run DecisionTree_experiment at: http://127.0.0.1:5000/#/experiments/803720941544646985/runs/770eea6572be47c39a13ac77130bdf83\n",
      "🧪 View experiment at: http://127.0.0.1:5000/#/experiments/803720941544646985\n",
      "LogisticRegression the Accuracy 0.9323444283646889 , Precision 0.9323980051324829, Recall 0.9323444283646889\n",
      "🏃 View run LogisticRegression_experiment at: http://127.0.0.1:5000/#/experiments/803720941544646985/runs/ee7f431175084703914c3c294484c90a\n",
      "🧪 View experiment at: http://127.0.0.1:5000/#/experiments/803720941544646985\n",
      "LogisticRegression the Accuracy 0.9323444283646889 , Precision 0.9323804108799394, Recall 0.9323444283646889\n",
      "🏃 View run LogisticRegression_experiment at: http://127.0.0.1:5000/#/experiments/803720941544646985/runs/783d6fb607ee48e0bcc9281b6930ce6a\n",
      "🧪 View experiment at: http://127.0.0.1:5000/#/experiments/803720941544646985\n"
     ]
    }
   ],
   "source": [
    "param_grids = {\n",
    "    'RandomForest': {'n_estimators': [50, 100], 'max_depth': [5, 10]},\n",
    "    'DecisionTree': {'max_depth': [5, 10], 'criterion': ['gini', 'entropy']},\n",
    "    'LogisticRegression': {'C': [0.1, 1.0], 'solver': ['liblinear']}\n",
    "}\n",
    "\n",
    "models = {\n",
    "    'RandomForest': RandomForestClassifier(),\n",
    "    'DecisionTree': DecisionTreeClassifier(),\n",
    "    'LogisticRegression': LogisticRegression(max_iter=1000)\n",
    "}\n",
    "\n",
    "for model_name , model in models.items():\n",
    "    for params in ParameterGrid(param_grids[model_name]):\n",
    "        with mlflow.start_run(run_name=f\"{model_name}_experiment\"):\n",
    "\n",
    "            #Set params\n",
    "            model.set_params(**params)\n",
    "            model.fit(X_train,y_train)\n",
    "\n",
    "            # Prediction and the metrics\n",
    "            y_pred = model.predict(X_test)\n",
    "            accuracy = accuracy_score(y_test, y_pred)\n",
    "            precision = precision_score(y_test, y_pred, average=\"weighted\")\n",
    "            recall = recall_score(y_test, y_pred, average=\"weighted\")\n",
    "\n",
    "            # print the parameters\n",
    "            print(f\"{model_name} the Accuracy {accuracy} , Precision {precision}, Recall {recall}\")\n",
    "\n",
    "            # Log parameters and metrics\n",
    "            mlflow.log_params(params)\n",
    "            mlflow.log_metric(\"accuracy\", accuracy)\n",
    "            mlflow.log_metric(\"precision\", precision)\n",
    "            mlflow.log_metric(\"recall\", recall)\n",
    "\n",
    "            ## Infer the model signature\n",
    "            signature = infer_signature(X_train,y_train)\n",
    "\n",
    "            model_info = mlflow.sklearn.log_model(\n",
    "            sk_model = model,\n",
    "            artifact_path = \"NS_model\",\n",
    "            signature = signature,\n",
    "            input_example = X_train,\n",
    "            )\n",
    "\n",
    "\n",
    "\n",
    "\n",
    "\n",
    "\n",
    "\n",
    "\n",
    "\n"
   ]
  },
  {
   "cell_type": "code",
   "execution_count": 12,
   "metadata": {},
   "outputs": [
    {
     "name": "stderr",
     "output_type": "stream",
     "text": [
      "Downloading artifacts: 100%|██████████| 7/7 [00:00<00:00,  7.92it/s]  "
     ]
    },
    {
     "name": "stdout",
     "output_type": "stream",
     "text": [
      "0.9609261939218524\n"
     ]
    },
    {
     "name": "stderr",
     "output_type": "stream",
     "text": [
      "\n"
     ]
    }
   ],
   "source": [
    "import mlflow\n",
    "model_uri = 'runs:/e2d9e00ce43445a5b6399bb1194cf611/NS_model'\n",
    "\n",
    "# Load model as a PyFuncModel.\n",
    "loaded_model = mlflow.pyfunc.load_model(model_uri)\n",
    "\n",
    "y_pred = loaded_model.predict(X_test)\n",
    "accuracy = accuracy_score(y_test, y_pred)\n",
    "\n",
    "print(accuracy)"
   ]
  }
 ],
 "metadata": {
  "kernelspec": {
   "display_name": "Python (mynlpenv)",
   "language": "python",
   "name": "mynlpenv"
  },
  "language_info": {
   "codemirror_mode": {
    "name": "ipython",
    "version": 3
   },
   "file_extension": ".py",
   "mimetype": "text/x-python",
   "name": "python",
   "nbconvert_exporter": "python",
   "pygments_lexer": "ipython3",
   "version": "3.13.1"
  },
  "orig_nbformat": 4
 },
 "nbformat": 4,
 "nbformat_minor": 2
}
